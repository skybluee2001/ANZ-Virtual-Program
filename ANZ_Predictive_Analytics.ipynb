{
  "nbformat": 4,
  "nbformat_minor": 0,
  "metadata": {
    "colab": {
      "name": "ANZ Predictive Analytics.ipynb",
      "provenance": []
    },
    "kernelspec": {
      "name": "python3",
      "display_name": "Python 3"
    }
  },
  "cells": [
    {
      "cell_type": "markdown",
      "metadata": {
        "id": "dZnTgB6A6zNU"
      },
      "source": [
        "## **Loading Dataset**"
      ]
    },
    {
      "cell_type": "code",
      "metadata": {
        "id": "m07EWNBNOK-r",
        "colab": {
          "base_uri": "https://localhost:8080/",
          "height": 482
        },
        "outputId": "126d1173-727f-4e28-bc3a-4548c48909fb"
      },
      "source": [
        "import pandas as pd\r\n",
        "import numpy as np\r\n",
        "data = pd.read_excel(\"ANZDATA.xlsx\")\r\n",
        "data.head()"
      ],
      "execution_count": null,
      "outputs": [
        {
          "output_type": "execute_result",
          "data": {
            "text/html": [
              "<div>\n",
              "<style scoped>\n",
              "    .dataframe tbody tr th:only-of-type {\n",
              "        vertical-align: middle;\n",
              "    }\n",
              "\n",
              "    .dataframe tbody tr th {\n",
              "        vertical-align: top;\n",
              "    }\n",
              "\n",
              "    .dataframe thead th {\n",
              "        text-align: right;\n",
              "    }\n",
              "</style>\n",
              "<table border=\"1\" class=\"dataframe\">\n",
              "  <thead>\n",
              "    <tr style=\"text-align: right;\">\n",
              "      <th></th>\n",
              "      <th>status</th>\n",
              "      <th>card_present_flag</th>\n",
              "      <th>bpay_biller_code</th>\n",
              "      <th>account</th>\n",
              "      <th>currency</th>\n",
              "      <th>long_lat</th>\n",
              "      <th>txn_description</th>\n",
              "      <th>merchant_id</th>\n",
              "      <th>merchant_code</th>\n",
              "      <th>first_name</th>\n",
              "      <th>balance</th>\n",
              "      <th>date</th>\n",
              "      <th>gender</th>\n",
              "      <th>age</th>\n",
              "      <th>merchant_suburb</th>\n",
              "      <th>merchant_state</th>\n",
              "      <th>extraction</th>\n",
              "      <th>amount</th>\n",
              "      <th>transaction_id</th>\n",
              "      <th>country</th>\n",
              "      <th>customer_id</th>\n",
              "      <th>merchant_long_lat</th>\n",
              "      <th>movement</th>\n",
              "    </tr>\n",
              "  </thead>\n",
              "  <tbody>\n",
              "    <tr>\n",
              "      <th>0</th>\n",
              "      <td>authorized</td>\n",
              "      <td>1.0</td>\n",
              "      <td>NaN</td>\n",
              "      <td>ACC-1598451071</td>\n",
              "      <td>AUD</td>\n",
              "      <td>153.41 -27.95</td>\n",
              "      <td>POS</td>\n",
              "      <td>81c48296-73be-44a7-befa-d053f48ce7cd</td>\n",
              "      <td>NaN</td>\n",
              "      <td>Diana</td>\n",
              "      <td>35.39</td>\n",
              "      <td>2018-08-01</td>\n",
              "      <td>F</td>\n",
              "      <td>26</td>\n",
              "      <td>Ashmore</td>\n",
              "      <td>QLD</td>\n",
              "      <td>2018-08-01T01:01:15.000+0000</td>\n",
              "      <td>16.25</td>\n",
              "      <td>a623070bfead4541a6b0fff8a09e706c</td>\n",
              "      <td>Australia</td>\n",
              "      <td>CUS-2487424745</td>\n",
              "      <td>153.38 -27.99</td>\n",
              "      <td>debit</td>\n",
              "    </tr>\n",
              "    <tr>\n",
              "      <th>1</th>\n",
              "      <td>authorized</td>\n",
              "      <td>0.0</td>\n",
              "      <td>NaN</td>\n",
              "      <td>ACC-1598451071</td>\n",
              "      <td>AUD</td>\n",
              "      <td>153.41 -27.95</td>\n",
              "      <td>SALES-POS</td>\n",
              "      <td>830a451c-316e-4a6a-bf25-e37caedca49e</td>\n",
              "      <td>NaN</td>\n",
              "      <td>Diana</td>\n",
              "      <td>21.20</td>\n",
              "      <td>2018-08-01</td>\n",
              "      <td>F</td>\n",
              "      <td>26</td>\n",
              "      <td>Sydney</td>\n",
              "      <td>NSW</td>\n",
              "      <td>2018-08-01T01:13:45.000+0000</td>\n",
              "      <td>14.19</td>\n",
              "      <td>13270a2a902145da9db4c951e04b51b9</td>\n",
              "      <td>Australia</td>\n",
              "      <td>CUS-2487424745</td>\n",
              "      <td>151.21 -33.87</td>\n",
              "      <td>debit</td>\n",
              "    </tr>\n",
              "    <tr>\n",
              "      <th>2</th>\n",
              "      <td>authorized</td>\n",
              "      <td>1.0</td>\n",
              "      <td>NaN</td>\n",
              "      <td>ACC-1222300524</td>\n",
              "      <td>AUD</td>\n",
              "      <td>151.23 -33.94</td>\n",
              "      <td>POS</td>\n",
              "      <td>835c231d-8cdf-4e96-859d-e9d571760cf0</td>\n",
              "      <td>NaN</td>\n",
              "      <td>Michael</td>\n",
              "      <td>5.71</td>\n",
              "      <td>2018-08-01</td>\n",
              "      <td>M</td>\n",
              "      <td>38</td>\n",
              "      <td>Sydney</td>\n",
              "      <td>NSW</td>\n",
              "      <td>2018-08-01T01:26:15.000+0000</td>\n",
              "      <td>6.42</td>\n",
              "      <td>feb79e7ecd7048a5a36ec889d1a94270</td>\n",
              "      <td>Australia</td>\n",
              "      <td>CUS-2142601169</td>\n",
              "      <td>151.21 -33.87</td>\n",
              "      <td>debit</td>\n",
              "    </tr>\n",
              "    <tr>\n",
              "      <th>3</th>\n",
              "      <td>authorized</td>\n",
              "      <td>1.0</td>\n",
              "      <td>NaN</td>\n",
              "      <td>ACC-1037050564</td>\n",
              "      <td>AUD</td>\n",
              "      <td>153.10 -27.66</td>\n",
              "      <td>SALES-POS</td>\n",
              "      <td>48514682-c78a-4a88-b0da-2d6302e64673</td>\n",
              "      <td>NaN</td>\n",
              "      <td>Rhonda</td>\n",
              "      <td>2117.22</td>\n",
              "      <td>2018-08-01</td>\n",
              "      <td>F</td>\n",
              "      <td>40</td>\n",
              "      <td>Buderim</td>\n",
              "      <td>QLD</td>\n",
              "      <td>2018-08-01T01:38:45.000+0000</td>\n",
              "      <td>40.90</td>\n",
              "      <td>2698170da3704fd981b15e64a006079e</td>\n",
              "      <td>Australia</td>\n",
              "      <td>CUS-1614226872</td>\n",
              "      <td>153.05 -26.68</td>\n",
              "      <td>debit</td>\n",
              "    </tr>\n",
              "    <tr>\n",
              "      <th>4</th>\n",
              "      <td>authorized</td>\n",
              "      <td>1.0</td>\n",
              "      <td>NaN</td>\n",
              "      <td>ACC-1598451071</td>\n",
              "      <td>AUD</td>\n",
              "      <td>153.41 -27.95</td>\n",
              "      <td>SALES-POS</td>\n",
              "      <td>b4e02c10-0852-4273-b8fd-7b3395e32eb0</td>\n",
              "      <td>NaN</td>\n",
              "      <td>Diana</td>\n",
              "      <td>17.95</td>\n",
              "      <td>2018-08-01</td>\n",
              "      <td>F</td>\n",
              "      <td>26</td>\n",
              "      <td>Mermaid Beach</td>\n",
              "      <td>QLD</td>\n",
              "      <td>2018-08-01T01:51:15.000+0000</td>\n",
              "      <td>3.25</td>\n",
              "      <td>329adf79878c4cf0aeb4188b4691c266</td>\n",
              "      <td>Australia</td>\n",
              "      <td>CUS-2487424745</td>\n",
              "      <td>153.44 -28.06</td>\n",
              "      <td>debit</td>\n",
              "    </tr>\n",
              "  </tbody>\n",
              "</table>\n",
              "</div>"
            ],
            "text/plain": [
              "       status  card_present_flag  ... merchant_long_lat movement\n",
              "0  authorized                1.0  ...     153.38 -27.99    debit\n",
              "1  authorized                0.0  ...     151.21 -33.87    debit\n",
              "2  authorized                1.0  ...     151.21 -33.87    debit\n",
              "3  authorized                1.0  ...     153.05 -26.68    debit\n",
              "4  authorized                1.0  ...     153.44 -28.06    debit\n",
              "\n",
              "[5 rows x 23 columns]"
            ]
          },
          "metadata": {
            "tags": []
          },
          "execution_count": 290
        }
      ]
    },
    {
      "cell_type": "code",
      "metadata": {
        "colab": {
          "base_uri": "https://localhost:8080/"
        },
        "id": "2PmUDfKYTYfr",
        "outputId": "8a0852a6-ca29-4076-a128-6398394c2c76"
      },
      "source": [
        "data.columns"
      ],
      "execution_count": null,
      "outputs": [
        {
          "output_type": "execute_result",
          "data": {
            "text/plain": [
              "Index(['status', 'card_present_flag', 'bpay_biller_code', 'account',\n",
              "       'currency', 'long_lat', 'txn_description', 'merchant_id',\n",
              "       'merchant_code', 'first_name', 'balance', 'date', 'gender', 'age',\n",
              "       'merchant_suburb', 'merchant_state', 'extraction', 'amount',\n",
              "       'transaction_id', 'country', 'customer_id', 'merchant_long_lat',\n",
              "       'movement'],\n",
              "      dtype='object')"
            ]
          },
          "metadata": {
            "tags": []
          },
          "execution_count": 292
        }
      ]
    },
    {
      "cell_type": "code",
      "metadata": {
        "id": "3O_jGvokQLqU"
      },
      "source": [
        "data=data[['txn_description','balance','gender','age','merchant_state','amount','customer_id']]"
      ],
      "execution_count": null,
      "outputs": []
    },
    {
      "cell_type": "code",
      "metadata": {
        "colab": {
          "base_uri": "https://localhost:8080/"
        },
        "id": "b2nAZF_jXi1a",
        "outputId": "684e0330-c40d-4356-c863-474dc3785b63"
      },
      "source": [
        "data['txn_description'].unique()"
      ],
      "execution_count": null,
      "outputs": [
        {
          "output_type": "execute_result",
          "data": {
            "text/plain": [
              "array(['POS', 'SALES-POS', 'PAYMENT', 'INTER BANK', 'PAY/SALARY',\n",
              "       'PHONE BANK'], dtype=object)"
            ]
          },
          "metadata": {
            "tags": []
          },
          "execution_count": 294
        }
      ]
    },
    {
      "cell_type": "markdown",
      "metadata": {
        "id": "Rm9ciwqi7Fyp"
      },
      "source": [
        "## **Finding Mean Salary of each customer**"
      ]
    },
    {
      "cell_type": "code",
      "metadata": {
        "colab": {
          "base_uri": "https://localhost:8080/",
          "height": 415
        },
        "id": "pwcBOuMYT2QL",
        "outputId": "1db9f7b8-c40c-48ae-9cdb-40c86f998525"
      },
      "source": [
        "salary = data[data[\"txn_description\"]==\"PAY/SALARY\"].groupby(\"customer_id\").mean().reset_index()\r\n",
        "salary=salary[['customer_id','amount']]\r\n",
        "salary.rename(columns={'amount':'salary'},inplace=True)\r\n",
        "salary\r\n",
        "# data.txn_description"
      ],
      "execution_count": null,
      "outputs": [
        {
          "output_type": "execute_result",
          "data": {
            "text/html": [
              "<div>\n",
              "<style scoped>\n",
              "    .dataframe tbody tr th:only-of-type {\n",
              "        vertical-align: middle;\n",
              "    }\n",
              "\n",
              "    .dataframe tbody tr th {\n",
              "        vertical-align: top;\n",
              "    }\n",
              "\n",
              "    .dataframe thead th {\n",
              "        text-align: right;\n",
              "    }\n",
              "</style>\n",
              "<table border=\"1\" class=\"dataframe\">\n",
              "  <thead>\n",
              "    <tr style=\"text-align: right;\">\n",
              "      <th></th>\n",
              "      <th>customer_id</th>\n",
              "      <th>salary</th>\n",
              "    </tr>\n",
              "  </thead>\n",
              "  <tbody>\n",
              "    <tr>\n",
              "      <th>0</th>\n",
              "      <td>CUS-1005756958</td>\n",
              "      <td>970.47</td>\n",
              "    </tr>\n",
              "    <tr>\n",
              "      <th>1</th>\n",
              "      <td>CUS-1117979751</td>\n",
              "      <td>3578.65</td>\n",
              "    </tr>\n",
              "    <tr>\n",
              "      <th>2</th>\n",
              "      <td>CUS-1140341822</td>\n",
              "      <td>1916.51</td>\n",
              "    </tr>\n",
              "    <tr>\n",
              "      <th>3</th>\n",
              "      <td>CUS-1147642491</td>\n",
              "      <td>1711.39</td>\n",
              "    </tr>\n",
              "    <tr>\n",
              "      <th>4</th>\n",
              "      <td>CUS-1196156254</td>\n",
              "      <td>3903.73</td>\n",
              "    </tr>\n",
              "    <tr>\n",
              "      <th>...</th>\n",
              "      <td>...</td>\n",
              "      <td>...</td>\n",
              "    </tr>\n",
              "    <tr>\n",
              "      <th>95</th>\n",
              "      <td>CUS-72755508</td>\n",
              "      <td>725.32</td>\n",
              "    </tr>\n",
              "    <tr>\n",
              "      <th>96</th>\n",
              "      <td>CUS-809013380</td>\n",
              "      <td>1037.07</td>\n",
              "    </tr>\n",
              "    <tr>\n",
              "      <th>97</th>\n",
              "      <td>CUS-860700529</td>\n",
              "      <td>1808.62</td>\n",
              "    </tr>\n",
              "    <tr>\n",
              "      <th>98</th>\n",
              "      <td>CUS-880898248</td>\n",
              "      <td>1433.98</td>\n",
              "    </tr>\n",
              "    <tr>\n",
              "      <th>99</th>\n",
              "      <td>CUS-883482547</td>\n",
              "      <td>3977.46</td>\n",
              "    </tr>\n",
              "  </tbody>\n",
              "</table>\n",
              "<p>100 rows × 2 columns</p>\n",
              "</div>"
            ],
            "text/plain": [
              "       customer_id   salary\n",
              "0   CUS-1005756958   970.47\n",
              "1   CUS-1117979751  3578.65\n",
              "2   CUS-1140341822  1916.51\n",
              "3   CUS-1147642491  1711.39\n",
              "4   CUS-1196156254  3903.73\n",
              "..             ...      ...\n",
              "95    CUS-72755508   725.32\n",
              "96   CUS-809013380  1037.07\n",
              "97   CUS-860700529  1808.62\n",
              "98   CUS-880898248  1433.98\n",
              "99   CUS-883482547  3977.46\n",
              "\n",
              "[100 rows x 2 columns]"
            ]
          },
          "metadata": {
            "tags": []
          },
          "execution_count": 295
        }
      ]
    },
    {
      "cell_type": "code",
      "metadata": {
        "colab": {
          "base_uri": "https://localhost:8080/",
          "height": 202
        },
        "id": "TRiiMCW0gjML",
        "outputId": "db627f7b-21f5-4f6e-d030-b8cd4e83ec7b"
      },
      "source": [
        "df=data.groupby('customer_id').mean().reset_index()\r\n",
        "df=df[['customer_id','age','balance','amount']]\r\n",
        "df.head()"
      ],
      "execution_count": null,
      "outputs": [
        {
          "output_type": "execute_result",
          "data": {
            "text/html": [
              "<div>\n",
              "<style scoped>\n",
              "    .dataframe tbody tr th:only-of-type {\n",
              "        vertical-align: middle;\n",
              "    }\n",
              "\n",
              "    .dataframe tbody tr th {\n",
              "        vertical-align: top;\n",
              "    }\n",
              "\n",
              "    .dataframe thead th {\n",
              "        text-align: right;\n",
              "    }\n",
              "</style>\n",
              "<table border=\"1\" class=\"dataframe\">\n",
              "  <thead>\n",
              "    <tr style=\"text-align: right;\">\n",
              "      <th></th>\n",
              "      <th>customer_id</th>\n",
              "      <th>age</th>\n",
              "      <th>balance</th>\n",
              "      <th>amount</th>\n",
              "    </tr>\n",
              "  </thead>\n",
              "  <tbody>\n",
              "    <tr>\n",
              "      <th>0</th>\n",
              "      <td>CUS-1005756958</td>\n",
              "      <td>53</td>\n",
              "      <td>2275.852055</td>\n",
              "      <td>222.862603</td>\n",
              "    </tr>\n",
              "    <tr>\n",
              "      <th>1</th>\n",
              "      <td>CUS-1117979751</td>\n",
              "      <td>21</td>\n",
              "      <td>9829.929000</td>\n",
              "      <td>339.843700</td>\n",
              "    </tr>\n",
              "    <tr>\n",
              "      <th>2</th>\n",
              "      <td>CUS-1140341822</td>\n",
              "      <td>28</td>\n",
              "      <td>5699.212250</td>\n",
              "      <td>212.632500</td>\n",
              "    </tr>\n",
              "    <tr>\n",
              "      <th>3</th>\n",
              "      <td>CUS-1147642491</td>\n",
              "      <td>34</td>\n",
              "      <td>9032.841186</td>\n",
              "      <td>245.600169</td>\n",
              "    </tr>\n",
              "    <tr>\n",
              "      <th>4</th>\n",
              "      <td>CUS-1196156254</td>\n",
              "      <td>34</td>\n",
              "      <td>22272.433755</td>\n",
              "      <td>147.145796</td>\n",
              "    </tr>\n",
              "  </tbody>\n",
              "</table>\n",
              "</div>"
            ],
            "text/plain": [
              "      customer_id  age       balance      amount\n",
              "0  CUS-1005756958   53   2275.852055  222.862603\n",
              "1  CUS-1117979751   21   9829.929000  339.843700\n",
              "2  CUS-1140341822   28   5699.212250  212.632500\n",
              "3  CUS-1147642491   34   9032.841186  245.600169\n",
              "4  CUS-1196156254   34  22272.433755  147.145796"
            ]
          },
          "metadata": {
            "tags": []
          },
          "execution_count": 296
        }
      ]
    },
    {
      "cell_type": "code",
      "metadata": {
        "colab": {
          "base_uri": "https://localhost:8080/",
          "height": 415
        },
        "id": "SHmxqQnmg11v",
        "outputId": "e7f739f8-d8e5-4d13-b07f-db5c182714ea"
      },
      "source": [
        "df=pd.merge(df,salary,on='customer_id')\r\n",
        "df"
      ],
      "execution_count": null,
      "outputs": [
        {
          "output_type": "execute_result",
          "data": {
            "text/html": [
              "<div>\n",
              "<style scoped>\n",
              "    .dataframe tbody tr th:only-of-type {\n",
              "        vertical-align: middle;\n",
              "    }\n",
              "\n",
              "    .dataframe tbody tr th {\n",
              "        vertical-align: top;\n",
              "    }\n",
              "\n",
              "    .dataframe thead th {\n",
              "        text-align: right;\n",
              "    }\n",
              "</style>\n",
              "<table border=\"1\" class=\"dataframe\">\n",
              "  <thead>\n",
              "    <tr style=\"text-align: right;\">\n",
              "      <th></th>\n",
              "      <th>customer_id</th>\n",
              "      <th>age</th>\n",
              "      <th>balance</th>\n",
              "      <th>amount</th>\n",
              "      <th>salary</th>\n",
              "    </tr>\n",
              "  </thead>\n",
              "  <tbody>\n",
              "    <tr>\n",
              "      <th>0</th>\n",
              "      <td>CUS-1005756958</td>\n",
              "      <td>53</td>\n",
              "      <td>2275.852055</td>\n",
              "      <td>222.862603</td>\n",
              "      <td>970.47</td>\n",
              "    </tr>\n",
              "    <tr>\n",
              "      <th>1</th>\n",
              "      <td>CUS-1117979751</td>\n",
              "      <td>21</td>\n",
              "      <td>9829.929000</td>\n",
              "      <td>339.843700</td>\n",
              "      <td>3578.65</td>\n",
              "    </tr>\n",
              "    <tr>\n",
              "      <th>2</th>\n",
              "      <td>CUS-1140341822</td>\n",
              "      <td>28</td>\n",
              "      <td>5699.212250</td>\n",
              "      <td>212.632500</td>\n",
              "      <td>1916.51</td>\n",
              "    </tr>\n",
              "    <tr>\n",
              "      <th>3</th>\n",
              "      <td>CUS-1147642491</td>\n",
              "      <td>34</td>\n",
              "      <td>9032.841186</td>\n",
              "      <td>245.600169</td>\n",
              "      <td>1711.39</td>\n",
              "    </tr>\n",
              "    <tr>\n",
              "      <th>4</th>\n",
              "      <td>CUS-1196156254</td>\n",
              "      <td>34</td>\n",
              "      <td>22272.433755</td>\n",
              "      <td>147.145796</td>\n",
              "      <td>3903.73</td>\n",
              "    </tr>\n",
              "    <tr>\n",
              "      <th>...</th>\n",
              "      <td>...</td>\n",
              "      <td>...</td>\n",
              "      <td>...</td>\n",
              "      <td>...</td>\n",
              "      <td>...</td>\n",
              "    </tr>\n",
              "    <tr>\n",
              "      <th>95</th>\n",
              "      <td>CUS-72755508</td>\n",
              "      <td>35</td>\n",
              "      <td>4497.557069</td>\n",
              "      <td>197.213276</td>\n",
              "      <td>725.32</td>\n",
              "    </tr>\n",
              "    <tr>\n",
              "      <th>96</th>\n",
              "      <td>CUS-809013380</td>\n",
              "      <td>21</td>\n",
              "      <td>3756.902903</td>\n",
              "      <td>151.694274</td>\n",
              "      <td>1037.07</td>\n",
              "    </tr>\n",
              "    <tr>\n",
              "      <th>97</th>\n",
              "      <td>CUS-860700529</td>\n",
              "      <td>30</td>\n",
              "      <td>3462.276009</td>\n",
              "      <td>77.681888</td>\n",
              "      <td>1808.62</td>\n",
              "    </tr>\n",
              "    <tr>\n",
              "      <th>98</th>\n",
              "      <td>CUS-880898248</td>\n",
              "      <td>26</td>\n",
              "      <td>8528.830385</td>\n",
              "      <td>146.954487</td>\n",
              "      <td>1433.98</td>\n",
              "    </tr>\n",
              "    <tr>\n",
              "      <th>99</th>\n",
              "      <td>CUS-883482547</td>\n",
              "      <td>19</td>\n",
              "      <td>9877.452697</td>\n",
              "      <td>205.839382</td>\n",
              "      <td>3977.46</td>\n",
              "    </tr>\n",
              "  </tbody>\n",
              "</table>\n",
              "<p>100 rows × 5 columns</p>\n",
              "</div>"
            ],
            "text/plain": [
              "       customer_id  age       balance      amount   salary\n",
              "0   CUS-1005756958   53   2275.852055  222.862603   970.47\n",
              "1   CUS-1117979751   21   9829.929000  339.843700  3578.65\n",
              "2   CUS-1140341822   28   5699.212250  212.632500  1916.51\n",
              "3   CUS-1147642491   34   9032.841186  245.600169  1711.39\n",
              "4   CUS-1196156254   34  22272.433755  147.145796  3903.73\n",
              "..             ...  ...           ...         ...      ...\n",
              "95    CUS-72755508   35   4497.557069  197.213276   725.32\n",
              "96   CUS-809013380   21   3756.902903  151.694274  1037.07\n",
              "97   CUS-860700529   30   3462.276009   77.681888  1808.62\n",
              "98   CUS-880898248   26   8528.830385  146.954487  1433.98\n",
              "99   CUS-883482547   19   9877.452697  205.839382  3977.46\n",
              "\n",
              "[100 rows x 5 columns]"
            ]
          },
          "metadata": {
            "tags": []
          },
          "execution_count": 297
        }
      ]
    },
    {
      "cell_type": "markdown",
      "metadata": {
        "id": "yp5-akVx6-jC"
      },
      "source": [
        "## **Correlation between Salary & Age**"
      ]
    },
    {
      "cell_type": "code",
      "metadata": {
        "colab": {
          "base_uri": "https://localhost:8080/",
          "height": 297
        },
        "id": "NHfBUf_shzec",
        "outputId": "f976cfdd-f971-4f2a-d400-b25a16e2ca9b"
      },
      "source": [
        "import matplotlib.pyplot as plt\r\n",
        "import seaborn as sns\r\n",
        "plt.figure()\r\n",
        "sns.regplot(x='age',y='salary',data=df)"
      ],
      "execution_count": null,
      "outputs": [
        {
          "output_type": "execute_result",
          "data": {
            "text/plain": [
              "<matplotlib.axes._subplots.AxesSubplot at 0x7f4c4dd714a8>"
            ]
          },
          "metadata": {
            "tags": []
          },
          "execution_count": 298
        },
        {
          "output_type": "display_data",
          "data": {
            "image/png": "[encoded data removed]",
            "text/plain": [
              "<Figure size 432x288 with 1 Axes>"
            ]
          },
          "metadata": {
            "tags": [],
            "needs_background": "light"
          }
        }
      ]
    },
    {
      "cell_type": "markdown",
      "metadata": {
        "id": "2_B5Eqc07oK5"
      },
      "source": [
        "## **Correlation between Salary & Balance**"
      ]
    },
    {
      "cell_type": "code",
      "metadata": {
        "colab": {
          "base_uri": "https://localhost:8080/",
          "height": 297
        },
        "id": "pnCH6B9iimoq",
        "outputId": "277deeb4-a8d2-4078-abd3-b0dada0856a1"
      },
      "source": [
        "plt.figure()\r\n",
        "sns.regplot(x='balance',y='salary',data=df)"
      ],
      "execution_count": null,
      "outputs": [
        {
          "output_type": "execute_result",
          "data": {
            "text/plain": [
              "<matplotlib.axes._subplots.AxesSubplot at 0x7f4c4d5cb2e8>"
            ]
          },
          "metadata": {
            "tags": []
          },
          "execution_count": 299
        },
        {
          "output_type": "display_data",
          "data": {
            "image/png": "[encoded data removed]",
            "text/plain": [
              "<Figure size 432x288 with 1 Axes>"
            ]
          },
          "metadata": {
            "tags": [],
            "needs_background": "light"
          }
        }
      ]
    },
    {
      "cell_type": "markdown",
      "metadata": {
        "id": "aGIG2Gbp7uKv"
      },
      "source": [
        "## **Correlation between Salary & Transaction Amount**"
      ]
    },
    {
      "cell_type": "code",
      "metadata": {
        "colab": {
          "base_uri": "https://localhost:8080/",
          "height": 297
        },
        "id": "dhSBzpw6i0YV",
        "outputId": "5e18f285-911f-4e25-9253-9bf12ff0c01f"
      },
      "source": [
        "plt.figure()\r\n",
        "sns.regplot(x='amount',y='salary',data=df)"
      ],
      "execution_count": null,
      "outputs": [
        {
          "output_type": "execute_result",
          "data": {
            "text/plain": [
              "<matplotlib.axes._subplots.AxesSubplot at 0x7f4c4d6dd160>"
            ]
          },
          "metadata": {
            "tags": []
          },
          "execution_count": 300
        },
        {
          "output_type": "display_data",
          "data": {
            "image/png": "[encoded data removed]",
            "text/plain": [
              "<Figure size 432x288 with 1 Axes>"
            ]
          },
          "metadata": {
            "tags": [],
            "needs_background": "light"
          }
        }
      ]
    },
    {
      "cell_type": "markdown",
      "metadata": {
        "id": "YjDNdOtQ78f2"
      },
      "source": [
        "### **Mean POS for each customer**\r\n",
        "It indicates spending behavior of customer"
      ]
    },
    {
      "cell_type": "code",
      "metadata": {
        "colab": {
          "base_uri": "https://localhost:8080/",
          "height": 415
        },
        "id": "RGP_-GEMjpdJ",
        "outputId": "8e5938be-839b-46e1-c86b-c41beb957044"
      },
      "source": [
        "pos = data[data[\"txn_description\"]==(\"POS\" or \"SALES-POS\")].groupby(\"customer_id\").mean().reset_index()\r\n",
        "pos=pos[['customer_id','amount']]\r\n",
        "pos.rename(columns={'amount':'pos'},inplace=True)\r\n",
        "pos"
      ],
      "execution_count": null,
      "outputs": [
        {
          "output_type": "execute_result",
          "data": {
            "text/html": [
              "<div>\n",
              "<style scoped>\n",
              "    .dataframe tbody tr th:only-of-type {\n",
              "        vertical-align: middle;\n",
              "    }\n",
              "\n",
              "    .dataframe tbody tr th {\n",
              "        vertical-align: top;\n",
              "    }\n",
              "\n",
              "    .dataframe thead th {\n",
              "        text-align: right;\n",
              "    }\n",
              "</style>\n",
              "<table border=\"1\" class=\"dataframe\">\n",
              "  <thead>\n",
              "    <tr style=\"text-align: right;\">\n",
              "      <th></th>\n",
              "      <th>customer_id</th>\n",
              "      <th>pos</th>\n",
              "    </tr>\n",
              "  </thead>\n",
              "  <tbody>\n",
              "    <tr>\n",
              "      <th>0</th>\n",
              "      <td>CUS-1005756958</td>\n",
              "      <td>28.769615</td>\n",
              "    </tr>\n",
              "    <tr>\n",
              "      <th>1</th>\n",
              "      <td>CUS-1117979751</td>\n",
              "      <td>23.321923</td>\n",
              "    </tr>\n",
              "    <tr>\n",
              "      <th>2</th>\n",
              "      <td>CUS-1140341822</td>\n",
              "      <td>34.781282</td>\n",
              "    </tr>\n",
              "    <tr>\n",
              "      <th>3</th>\n",
              "      <td>CUS-1147642491</td>\n",
              "      <td>54.271316</td>\n",
              "    </tr>\n",
              "    <tr>\n",
              "      <th>4</th>\n",
              "      <td>CUS-1196156254</td>\n",
              "      <td>31.157432</td>\n",
              "    </tr>\n",
              "    <tr>\n",
              "      <th>...</th>\n",
              "      <td>...</td>\n",
              "      <td>...</td>\n",
              "    </tr>\n",
              "    <tr>\n",
              "      <th>95</th>\n",
              "      <td>CUS-72755508</td>\n",
              "      <td>25.022143</td>\n",
              "    </tr>\n",
              "    <tr>\n",
              "      <th>96</th>\n",
              "      <td>CUS-809013380</td>\n",
              "      <td>22.255098</td>\n",
              "    </tr>\n",
              "    <tr>\n",
              "      <th>97</th>\n",
              "      <td>CUS-860700529</td>\n",
              "      <td>28.164845</td>\n",
              "    </tr>\n",
              "    <tr>\n",
              "      <th>98</th>\n",
              "      <td>CUS-880898248</td>\n",
              "      <td>20.101429</td>\n",
              "    </tr>\n",
              "    <tr>\n",
              "      <th>99</th>\n",
              "      <td>CUS-883482547</td>\n",
              "      <td>30.635098</td>\n",
              "    </tr>\n",
              "  </tbody>\n",
              "</table>\n",
              "<p>100 rows × 2 columns</p>\n",
              "</div>"
            ],
            "text/plain": [
              "       customer_id        pos\n",
              "0   CUS-1005756958  28.769615\n",
              "1   CUS-1117979751  23.321923\n",
              "2   CUS-1140341822  34.781282\n",
              "3   CUS-1147642491  54.271316\n",
              "4   CUS-1196156254  31.157432\n",
              "..             ...        ...\n",
              "95    CUS-72755508  25.022143\n",
              "96   CUS-809013380  22.255098\n",
              "97   CUS-860700529  28.164845\n",
              "98   CUS-880898248  20.101429\n",
              "99   CUS-883482547  30.635098\n",
              "\n",
              "[100 rows x 2 columns]"
            ]
          },
          "metadata": {
            "tags": []
          },
          "execution_count": 301
        }
      ]
    },
    {
      "cell_type": "markdown",
      "metadata": {
        "id": "AgMHqZaW8L6I"
      },
      "source": [
        "### **Mean payment made by the customer**"
      ]
    },
    {
      "cell_type": "code",
      "metadata": {
        "colab": {
          "base_uri": "https://localhost:8080/",
          "height": 415
        },
        "id": "QHrwHYX9lBSx",
        "outputId": "3141a3f8-1ddb-429f-bc03-3dd66484af8c"
      },
      "source": [
        "paym = data[data[\"txn_description\"]=='PAYMENT'].groupby(\"customer_id\").mean().reset_index()\r\n",
        "paym=paym[['customer_id','amount']]\r\n",
        "paym.rename(columns={'amount':'paym'},inplace=True)\r\n",
        "paym"
      ],
      "execution_count": null,
      "outputs": [
        {
          "output_type": "execute_result",
          "data": {
            "text/html": [
              "<div>\n",
              "<style scoped>\n",
              "    .dataframe tbody tr th:only-of-type {\n",
              "        vertical-align: middle;\n",
              "    }\n",
              "\n",
              "    .dataframe tbody tr th {\n",
              "        vertical-align: top;\n",
              "    }\n",
              "\n",
              "    .dataframe thead th {\n",
              "        text-align: right;\n",
              "    }\n",
              "</style>\n",
              "<table border=\"1\" class=\"dataframe\">\n",
              "  <thead>\n",
              "    <tr style=\"text-align: right;\">\n",
              "      <th></th>\n",
              "      <th>customer_id</th>\n",
              "      <th>paym</th>\n",
              "    </tr>\n",
              "  </thead>\n",
              "  <tbody>\n",
              "    <tr>\n",
              "      <th>0</th>\n",
              "      <td>CUS-1005756958</td>\n",
              "      <td>144.000000</td>\n",
              "    </tr>\n",
              "    <tr>\n",
              "      <th>1</th>\n",
              "      <td>CUS-1117979751</td>\n",
              "      <td>98.925000</td>\n",
              "    </tr>\n",
              "    <tr>\n",
              "      <th>2</th>\n",
              "      <td>CUS-1140341822</td>\n",
              "      <td>142.000000</td>\n",
              "    </tr>\n",
              "    <tr>\n",
              "      <th>3</th>\n",
              "      <td>CUS-1147642491</td>\n",
              "      <td>96.185185</td>\n",
              "    </tr>\n",
              "    <tr>\n",
              "      <th>4</th>\n",
              "      <td>CUS-1196156254</td>\n",
              "      <td>43.100000</td>\n",
              "    </tr>\n",
              "    <tr>\n",
              "      <th>...</th>\n",
              "      <td>...</td>\n",
              "      <td>...</td>\n",
              "    </tr>\n",
              "    <tr>\n",
              "      <th>95</th>\n",
              "      <td>CUS-72755508</td>\n",
              "      <td>1180.000000</td>\n",
              "    </tr>\n",
              "    <tr>\n",
              "      <th>96</th>\n",
              "      <td>CUS-809013380</td>\n",
              "      <td>70.136364</td>\n",
              "    </tr>\n",
              "    <tr>\n",
              "      <th>97</th>\n",
              "      <td>CUS-860700529</td>\n",
              "      <td>41.933333</td>\n",
              "    </tr>\n",
              "    <tr>\n",
              "      <th>98</th>\n",
              "      <td>CUS-880898248</td>\n",
              "      <td>77.500000</td>\n",
              "    </tr>\n",
              "    <tr>\n",
              "      <th>99</th>\n",
              "      <td>CUS-883482547</td>\n",
              "      <td>91.446809</td>\n",
              "    </tr>\n",
              "  </tbody>\n",
              "</table>\n",
              "<p>100 rows × 2 columns</p>\n",
              "</div>"
            ],
            "text/plain": [
              "       customer_id         paym\n",
              "0   CUS-1005756958   144.000000\n",
              "1   CUS-1117979751    98.925000\n",
              "2   CUS-1140341822   142.000000\n",
              "3   CUS-1147642491    96.185185\n",
              "4   CUS-1196156254    43.100000\n",
              "..             ...          ...\n",
              "95    CUS-72755508  1180.000000\n",
              "96   CUS-809013380    70.136364\n",
              "97   CUS-860700529    41.933333\n",
              "98   CUS-880898248    77.500000\n",
              "99   CUS-883482547    91.446809\n",
              "\n",
              "[100 rows x 2 columns]"
            ]
          },
          "metadata": {
            "tags": []
          },
          "execution_count": 302
        }
      ]
    },
    {
      "cell_type": "code",
      "metadata": {
        "colab": {
          "base_uri": "https://localhost:8080/",
          "height": 415
        },
        "id": "M8U9jlXOlR5s",
        "outputId": "b58d3bf8-c9e4-4618-85e9-4e5597bbcc7f"
      },
      "source": [
        "df=pd.merge(df,pos,on='customer_id')\r\n",
        "df=df=pd.merge(df,paym,on='customer_id')\r\n",
        "df"
      ],
      "execution_count": null,
      "outputs": [
        {
          "output_type": "execute_result",
          "data": {
            "text/html": [
              "<div>\n",
              "<style scoped>\n",
              "    .dataframe tbody tr th:only-of-type {\n",
              "        vertical-align: middle;\n",
              "    }\n",
              "\n",
              "    .dataframe tbody tr th {\n",
              "        vertical-align: top;\n",
              "    }\n",
              "\n",
              "    .dataframe thead th {\n",
              "        text-align: right;\n",
              "    }\n",
              "</style>\n",
              "<table border=\"1\" class=\"dataframe\">\n",
              "  <thead>\n",
              "    <tr style=\"text-align: right;\">\n",
              "      <th></th>\n",
              "      <th>customer_id</th>\n",
              "      <th>age</th>\n",
              "      <th>balance</th>\n",
              "      <th>amount</th>\n",
              "      <th>salary</th>\n",
              "      <th>pos</th>\n",
              "      <th>paym</th>\n",
              "    </tr>\n",
              "  </thead>\n",
              "  <tbody>\n",
              "    <tr>\n",
              "      <th>0</th>\n",
              "      <td>CUS-1005756958</td>\n",
              "      <td>53</td>\n",
              "      <td>2275.852055</td>\n",
              "      <td>222.862603</td>\n",
              "      <td>970.47</td>\n",
              "      <td>28.769615</td>\n",
              "      <td>144.000000</td>\n",
              "    </tr>\n",
              "    <tr>\n",
              "      <th>1</th>\n",
              "      <td>CUS-1117979751</td>\n",
              "      <td>21</td>\n",
              "      <td>9829.929000</td>\n",
              "      <td>339.843700</td>\n",
              "      <td>3578.65</td>\n",
              "      <td>23.321923</td>\n",
              "      <td>98.925000</td>\n",
              "    </tr>\n",
              "    <tr>\n",
              "      <th>2</th>\n",
              "      <td>CUS-1140341822</td>\n",
              "      <td>28</td>\n",
              "      <td>5699.212250</td>\n",
              "      <td>212.632500</td>\n",
              "      <td>1916.51</td>\n",
              "      <td>34.781282</td>\n",
              "      <td>142.000000</td>\n",
              "    </tr>\n",
              "    <tr>\n",
              "      <th>3</th>\n",
              "      <td>CUS-1147642491</td>\n",
              "      <td>34</td>\n",
              "      <td>9032.841186</td>\n",
              "      <td>245.600169</td>\n",
              "      <td>1711.39</td>\n",
              "      <td>54.271316</td>\n",
              "      <td>96.185185</td>\n",
              "    </tr>\n",
              "    <tr>\n",
              "      <th>4</th>\n",
              "      <td>CUS-1196156254</td>\n",
              "      <td>34</td>\n",
              "      <td>22272.433755</td>\n",
              "      <td>147.145796</td>\n",
              "      <td>3903.73</td>\n",
              "      <td>31.157432</td>\n",
              "      <td>43.100000</td>\n",
              "    </tr>\n",
              "    <tr>\n",
              "      <th>...</th>\n",
              "      <td>...</td>\n",
              "      <td>...</td>\n",
              "      <td>...</td>\n",
              "      <td>...</td>\n",
              "      <td>...</td>\n",
              "      <td>...</td>\n",
              "      <td>...</td>\n",
              "    </tr>\n",
              "    <tr>\n",
              "      <th>95</th>\n",
              "      <td>CUS-72755508</td>\n",
              "      <td>35</td>\n",
              "      <td>4497.557069</td>\n",
              "      <td>197.213276</td>\n",
              "      <td>725.32</td>\n",
              "      <td>25.022143</td>\n",
              "      <td>1180.000000</td>\n",
              "    </tr>\n",
              "    <tr>\n",
              "      <th>96</th>\n",
              "      <td>CUS-809013380</td>\n",
              "      <td>21</td>\n",
              "      <td>3756.902903</td>\n",
              "      <td>151.694274</td>\n",
              "      <td>1037.07</td>\n",
              "      <td>22.255098</td>\n",
              "      <td>70.136364</td>\n",
              "    </tr>\n",
              "    <tr>\n",
              "      <th>97</th>\n",
              "      <td>CUS-860700529</td>\n",
              "      <td>30</td>\n",
              "      <td>3462.276009</td>\n",
              "      <td>77.681888</td>\n",
              "      <td>1808.62</td>\n",
              "      <td>28.164845</td>\n",
              "      <td>41.933333</td>\n",
              "    </tr>\n",
              "    <tr>\n",
              "      <th>98</th>\n",
              "      <td>CUS-880898248</td>\n",
              "      <td>26</td>\n",
              "      <td>8528.830385</td>\n",
              "      <td>146.954487</td>\n",
              "      <td>1433.98</td>\n",
              "      <td>20.101429</td>\n",
              "      <td>77.500000</td>\n",
              "    </tr>\n",
              "    <tr>\n",
              "      <th>99</th>\n",
              "      <td>CUS-883482547</td>\n",
              "      <td>19</td>\n",
              "      <td>9877.452697</td>\n",
              "      <td>205.839382</td>\n",
              "      <td>3977.46</td>\n",
              "      <td>30.635098</td>\n",
              "      <td>91.446809</td>\n",
              "    </tr>\n",
              "  </tbody>\n",
              "</table>\n",
              "<p>100 rows × 7 columns</p>\n",
              "</div>"
            ],
            "text/plain": [
              "       customer_id  age       balance  ...   salary        pos         paym\n",
              "0   CUS-1005756958   53   2275.852055  ...   970.47  28.769615   144.000000\n",
              "1   CUS-1117979751   21   9829.929000  ...  3578.65  23.321923    98.925000\n",
              "2   CUS-1140341822   28   5699.212250  ...  1916.51  34.781282   142.000000\n",
              "3   CUS-1147642491   34   9032.841186  ...  1711.39  54.271316    96.185185\n",
              "4   CUS-1196156254   34  22272.433755  ...  3903.73  31.157432    43.100000\n",
              "..             ...  ...           ...  ...      ...        ...          ...\n",
              "95    CUS-72755508   35   4497.557069  ...   725.32  25.022143  1180.000000\n",
              "96   CUS-809013380   21   3756.902903  ...  1037.07  22.255098    70.136364\n",
              "97   CUS-860700529   30   3462.276009  ...  1808.62  28.164845    41.933333\n",
              "98   CUS-880898248   26   8528.830385  ...  1433.98  20.101429    77.500000\n",
              "99   CUS-883482547   19   9877.452697  ...  3977.46  30.635098    91.446809\n",
              "\n",
              "[100 rows x 7 columns]"
            ]
          },
          "metadata": {
            "tags": []
          },
          "execution_count": 303
        }
      ]
    },
    {
      "cell_type": "code",
      "metadata": {
        "colab": {
          "base_uri": "https://localhost:8080/"
        },
        "id": "rrtFSJCOl52u",
        "outputId": "5e805868-573c-4248-bbc9-92e99c6fff7f"
      },
      "source": [
        "X=df[[\"age\",\"balance\",\"paym\",\"pos\",'amount']].values\r\n",
        "y=df[\"salary\"].values\r\n",
        "X"
      ],
      "execution_count": null,
      "outputs": [
        {
          "output_type": "execute_result",
          "data": {
            "text/plain": [
              "array([[5.30000000e+01, 2.27585205e+03, 1.44000000e+02, 2.87696154e+01,\n",
              "        2.22862603e+02],\n",
              "       [2.10000000e+01, 9.82992900e+03, 9.89250000e+01, 2.33219231e+01,\n",
              "        3.39843700e+02],\n",
              "       [2.80000000e+01, 5.69921225e+03, 1.42000000e+02, 3.47812821e+01,\n",
              "        2.12632500e+02],\n",
              "       [3.40000000e+01, 9.03284119e+03, 9.61851852e+01, 5.42713158e+01,\n",
              "        2.45600169e+02],\n",
              "       [3.40000000e+01, 2.22724338e+04, 4.31000000e+01, 3.11574324e+01,\n",
              "        1.47145796e+02],\n",
              "       [2.50000000e+01, 8.47579600e+03, 7.27500000e+01, 6.65507407e+01,\n",
              "        2.74614800e+02],\n",
              "       [4.40000000e+01, 4.92385364e+03, 3.30428571e+02, 3.29445455e+01,\n",
              "        2.36035000e+02],\n",
              "       [3.00000000e+01, 5.00394051e+03, 8.82272727e+01, 2.57627187e+02,\n",
              "        2.48545128e+02],\n",
              "       [2.00000000e+01, 5.44833457e+03, 6.90000000e+01, 2.39560563e+01,\n",
              "        1.09833216e+02],\n",
              "       [2.10000000e+01, 5.55392947e+03, 1.93000000e+02, 5.48545455e+01,\n",
              "        2.26721184e+02],\n",
              "       [5.20000000e+01, 1.01627890e+04, 1.44150000e+02, 4.52470833e+01,\n",
              "        4.18742468e+02],\n",
              "       [6.90000000e+01, 6.21871147e+03, 6.70285714e+01, 2.78442857e+01,\n",
              "        1.83139412e+02],\n",
              "       [2.40000000e+01, 3.21367768e+03, 4.51052632e+01, 4.24767925e+01,\n",
              "        1.00408774e+02],\n",
              "       [2.30000000e+01, 1.33683705e+04, 1.16678571e+02, 5.10757143e+01,\n",
              "        2.97510345e+02],\n",
              "       [3.80000000e+01, 1.41568889e+04, 3.89800000e+02, 3.24145455e+01,\n",
              "        3.04375604e+02],\n",
              "       [4.60000000e+01, 1.99772980e+04, 4.04761905e+01, 7.34945000e+01,\n",
              "        2.28021163e+02],\n",
              "       [3.80000000e+01, 6.85028713e+03, 5.72400000e+01, 3.12747826e+01,\n",
              "        1.57549180e+02],\n",
              "       [1.90000000e+01, 5.66857958e+04, 7.54545455e+01, 1.34343000e+02,\n",
              "        2.88629259e+02],\n",
              "       [4.00000000e+01, 3.33142448e+03, 3.24615385e+01, 3.06253153e+01,\n",
              "        7.44650193e+01],\n",
              "       [2.20000000e+01, 5.76426016e+03, 5.53611111e+01, 9.85121053e+01,\n",
              "        2.68989837e+02],\n",
              "       [2.00000000e+01, 6.60907657e+03, 8.55806452e+01, 2.96756364e+01,\n",
              "        1.67005904e+02],\n",
              "       [7.80000000e+01, 5.42406415e+04, 5.84375000e+01, 2.37366667e+01,\n",
              "        3.18977941e+02],\n",
              "       [2.60000000e+01, 5.55127617e+03, 1.16583333e+02, 5.68127273e+01,\n",
              "        1.92534870e+02],\n",
              "       [6.40000000e+01, 2.85080705e+03, 3.00000000e+01, 4.71442308e+01,\n",
              "        1.20311591e+02],\n",
              "       [2.50000000e+01, 4.85974087e+03, 4.35609756e+01, 2.06892941e+01,\n",
              "        1.00306783e+02],\n",
              "       [2.70000000e+01, 4.51314880e+03, 1.69000000e+02, 2.75787500e+01,\n",
              "        4.26108800e+02],\n",
              "       [3.90000000e+01, 1.20517447e+04, 5.72615385e+01, 4.13510714e+01,\n",
              "        1.97844028e+02],\n",
              "       [4.00000000e+01, 6.54204042e+04, 7.35675676e+01, 5.28254545e+01,\n",
              "        5.15583846e+02],\n",
              "       [1.80000000e+01, 4.02443724e+03, 3.60000000e+01, 2.63553846e+01,\n",
              "        1.26918878e+02],\n",
              "       [4.40000000e+01, 7.57929155e+03, 7.45454545e+01, 2.85244118e+01,\n",
              "        2.00197500e+02],\n",
              "       [3.50000000e+01, 9.52584452e+03, 5.54000000e+01, 4.50039024e+01,\n",
              "        1.67893548e+02],\n",
              "       [1.90000000e+01, 6.99870836e+03, 1.11941176e+02, 4.11889474e+01,\n",
              "        1.95940690e+02],\n",
              "       [4.00000000e+01, 1.20716255e+04, 9.76216216e+01, 4.50491667e+01,\n",
              "        3.14324298e+02],\n",
              "       [2.10000000e+01, 3.58169519e+04, 5.89142857e+01, 2.70229730e+01,\n",
              "        2.22325932e+02],\n",
              "       [3.10000000e+01, 7.63609449e+03, 4.23333333e+01, 3.12397059e+01,\n",
              "        1.79918814e+02],\n",
              "       [2.00000000e+01, 1.18014238e+04, 3.90000000e+01, 2.29226667e+01,\n",
              "        2.35262759e+02],\n",
              "       [3.80000000e+01, 1.19129142e+03, 7.02142857e+01, 4.30917532e+01,\n",
              "        7.82061056e+01],\n",
              "       [3.50000000e+01, 1.41647929e+04, 8.60416667e+01, 3.01735294e+01,\n",
              "        3.75681089e+02],\n",
              "       [2.50000000e+01, 3.65148547e+03, 1.21500000e+02, 2.14216393e+01,\n",
              "        1.08334459e+02],\n",
              "       [3.80000000e+01, 2.03395667e+04, 5.55000000e+01, 1.90704444e+01,\n",
              "        1.27645254e+02],\n",
              "       [2.20000000e+01, 7.12755182e+03, 4.01304348e+01, 5.14209091e+01,\n",
              "        1.92532273e+02],\n",
              "       [1.90000000e+01, 1.18857449e+04, 3.30606061e+01, 2.32284615e+01,\n",
              "        2.20852474e+02],\n",
              "       [4.10000000e+01, 4.43550298e+03, 2.77200000e+01, 4.45800000e+01,\n",
              "        1.54992231e+02],\n",
              "       [4.60000000e+01, 2.63753766e+05, 6.17500000e+01, 2.58643636e+02,\n",
              "        2.98604030e+02],\n",
              "       [3.90000000e+01, 1.21407137e+04, 5.27419355e+01, 3.71537209e+01,\n",
              "        2.31646906e+02],\n",
              "       [2.00000000e+01, 5.99314583e+03, 3.81612903e+01, 7.20789474e+01,\n",
              "        1.75425000e+02],\n",
              "       [2.60000000e+01, 1.73512067e+03, 9.79411765e+01, 1.86523938e+01,\n",
              "        4.53487716e+01],\n",
              "       [2.30000000e+01, 9.74025786e+03, 5.19076923e+01, 1.56300000e+01,\n",
              "        3.14383571e+02],\n",
              "       [4.00000000e+01, 1.17479125e+04, 1.06500000e+02, 3.03724324e+01,\n",
              "        2.91293333e+02],\n",
              "       [4.30000000e+01, 3.39788379e+03, 1.82200000e+02, 4.35286957e+01,\n",
              "        1.19057581e+02],\n",
              "       [2.90000000e+01, 1.49735290e+04, 5.84468085e+01, 2.55633333e+01,\n",
              "        2.74523358e+02],\n",
              "       [2.60000000e+01, 7.14911017e+03, 5.55000000e+01, 1.97600000e+01,\n",
              "        2.26913833e+02],\n",
              "       [3.50000000e+01, 3.65310889e+03, 9.77500000e+01, 1.20653000e+02,\n",
              "        2.17716296e+02],\n",
              "       [2.80000000e+01, 3.94278736e+04, 5.51927711e+01, 2.81652000e+01,\n",
              "        2.02785212e+02],\n",
              "       [2.00000000e+01, 5.59298008e+03, 2.40285714e+02, 2.94448780e+01,\n",
              "        1.59304186e+02],\n",
              "       [3.70000000e+01, 2.86396008e+03, 5.56551724e+01, 6.03848387e+01,\n",
              "        8.98743515e+01],\n",
              "       [3.50000000e+01, 1.12867145e+04, 5.92444444e+02, 3.35345455e+01,\n",
              "        5.67614500e+02],\n",
              "       [4.20000000e+01, 1.11300798e+05, 1.09800000e+02, 8.85418182e+01,\n",
              "        4.48658413e+02],\n",
              "       [5.00000000e+01, 2.79107807e+04, 1.73500000e+02, 1.26390625e+02,\n",
              "        3.07334318e+02],\n",
              "       [2.70000000e+01, 5.85497736e+03, 1.57500000e+02, 2.78691200e+01,\n",
              "        9.95696575e+01],\n",
              "       [3.30000000e+01, 6.14913506e+04, 7.68636364e+01, 3.67373913e+01,\n",
              "        1.64179137e+02],\n",
              "       [3.10000000e+01, 3.69348022e+03, 6.98076923e+01, 4.44397500e+01,\n",
              "        1.53332336e+02],\n",
              "       [4.30000000e+01, 1.24717843e+04, 8.39411765e+01, 6.34645455e+01,\n",
              "        2.61891411e+02],\n",
              "       [4.20000000e+01, 3.78420778e+04, 7.56842105e+01, 3.07150000e+01,\n",
              "        3.35183673e+02],\n",
              "       [1.90000000e+01, 1.02143680e+04, 1.25200000e+02, 4.84422222e+01,\n",
              "        4.89220980e+02],\n",
              "       [2.70000000e+01, 6.13865254e+03, 3.86046512e+01, 2.91448148e+01,\n",
              "        1.80891032e+02],\n",
              "       [3.70000000e+01, 5.47388595e+03, 1.66000000e+02, 1.78258750e+02,\n",
              "        3.92840811e+02],\n",
              "       [3.80000000e+01, 3.86876728e+04, 1.11214286e+02, 1.07296250e+02,\n",
              "        3.17661765e+02],\n",
              "       [2.10000000e+01, 3.16358294e+03, 5.75000000e+01, 2.69201563e+01,\n",
              "        1.68607423e+02],\n",
              "       [4.30000000e+01, 3.03312187e+04, 4.26600000e+02, 1.09068000e+02,\n",
              "        2.54994615e+02],\n",
              "       [2.20000000e+01, 6.95352702e+03, 8.10000000e+01, 4.03146667e+01,\n",
              "        3.33786596e+02],\n",
              "       [2.60000000e+01, 4.15387339e+03, 6.76956522e+01, 3.59012500e+01,\n",
              "        2.40685645e+02],\n",
              "       [2.00000000e+01, 3.69277184e+03, 1.77611111e+02, 2.12074510e+01,\n",
              "        1.45500426e+02],\n",
              "       [1.80000000e+01, 1.08751310e+04, 6.73548387e+01, 2.21016667e+01,\n",
              "        2.34624138e+02],\n",
              "       [2.40000000e+01, 3.49316546e+03, 6.61333333e+01, 3.86086316e+01,\n",
              "        8.75460000e+01],\n",
              "       [4.20000000e+01, 1.67494250e+04, 1.37470588e+02, 4.19200000e+01,\n",
              "        3.55400250e+02],\n",
              "       [2.20000000e+01, 5.01611000e+03, 4.28142857e+02, 2.26981818e+01,\n",
              "        2.78633818e+02],\n",
              "       [2.20000000e+01, 4.63387338e+04, 1.24500000e+02, 2.93713043e+01,\n",
              "        2.65134767e+02],\n",
              "       [1.80000000e+01, 2.09797155e+03, 6.42222222e+01, 7.71177419e+01,\n",
              "        1.59418454e+02],\n",
              "       [4.70000000e+01, 5.45644136e+03, 1.04974359e+02, 3.93730769e+01,\n",
              "        2.11213636e+02],\n",
              "       [4.20000000e+01, 3.96775563e+03, 1.41250000e+02, 5.69896296e+01,\n",
              "        1.83653000e+02],\n",
              "       [2.50000000e+01, 9.00707613e+03, 5.71428571e+01, 2.29542857e+01,\n",
              "        3.09047903e+02],\n",
              "       [2.80000000e+01, 1.12469224e+04, 6.26285714e+01, 4.48104000e+01,\n",
              "        1.56932249e+02],\n",
              "       [4.30000000e+01, 5.21057537e+03, 5.71250000e+01, 6.70385714e+01,\n",
              "        1.66508358e+02],\n",
              "       [3.40000000e+01, 6.79563339e+03, 8.13469388e+01, 4.32168852e+01,\n",
              "        2.10277299e+02],\n",
              "       [2.40000000e+01, 4.66698679e+03, 3.68518519e+01, 2.52635714e+01,\n",
              "        1.77745128e+02],\n",
              "       [1.90000000e+01, 8.10173653e+03, 3.40000000e+01, 2.48803448e+01,\n",
              "        9.96015294e+01],\n",
              "       [3.80000000e+01, 5.75665790e+04, 1.44500000e+02, 1.02412500e+02,\n",
              "        6.93632903e+02],\n",
              "       [3.00000000e+01, 4.35695293e+03, 5.80967742e+01, 7.19389286e+01,\n",
              "        1.67398152e+02],\n",
              "       [2.30000000e+01, 4.35715431e+03, 6.76666667e+01, 3.73093939e+01,\n",
              "        1.52435413e+02],\n",
              "       [2.40000000e+01, 1.63858316e+04, 1.26900000e+02, 3.16443396e+01,\n",
              "        1.00839958e+02],\n",
              "       [4.00000000e+01, 1.98565144e+05, 7.22162162e+01, 3.55705000e+01,\n",
              "        2.42010662e+02],\n",
              "       [2.10000000e+01, 5.80077316e+03, 5.10000000e+01, 4.13695349e+01,\n",
              "        1.54711842e+02],\n",
              "       [3.00000000e+01, 7.03147018e+03, 6.38857143e+02, 3.28700000e+01,\n",
              "        4.97669474e+02],\n",
              "       [1.80000000e+01, 4.02685029e+03, 1.06500000e+02, 2.50395238e+01,\n",
              "        1.68848039e+02],\n",
              "       [3.50000000e+01, 4.49755707e+03, 1.18000000e+03, 2.50221429e+01,\n",
              "        1.97213276e+02],\n",
              "       [2.10000000e+01, 3.75690290e+03, 7.01363636e+01, 2.22550980e+01,\n",
              "        1.51694274e+02],\n",
              "       [3.00000000e+01, 3.46227601e+03, 4.19333333e+01, 2.81648454e+01,\n",
              "        7.76818884e+01],\n",
              "       [2.60000000e+01, 8.52883038e+03, 7.75000000e+01, 2.01014286e+01,\n",
              "        1.46954487e+02],\n",
              "       [1.90000000e+01, 9.87745270e+03, 9.14468085e+01, 3.06350980e+01,\n",
              "        2.05839382e+02]])"
            ]
          },
          "metadata": {
            "tags": []
          },
          "execution_count": 304
        }
      ]
    },
    {
      "cell_type": "code",
      "metadata": {
        "id": "pHANuw5cmDHT"
      },
      "source": [
        "from sklearn.model_selection import train_test_split\r\n",
        "from sklearn.metrics import mean_squared_error, r2_score\r\n",
        "X_train,X_test,y_train,y_test=train_test_split(X,y,test_size=0.3,random_state=0)"
      ],
      "execution_count": null,
      "outputs": []
    },
    {
      "cell_type": "markdown",
      "metadata": {
        "id": "1m9m1Qmen5Dg"
      },
      "source": [
        "## **Linear Regression**"
      ]
    },
    {
      "cell_type": "code",
      "metadata": {
        "colab": {
          "base_uri": "https://localhost:8080/"
        },
        "id": "BGQa0FA0nPFT",
        "outputId": "21525d44-3a0e-4b52-b060-7a3c28214aab"
      },
      "source": [
        "from sklearn.linear_model import LinearRegression\r\n",
        "lr = LinearRegression()\r\n",
        "lr.fit(X_train, y_train)\r\n",
        "lr.score(X_train, y_train)"
      ],
      "execution_count": null,
      "outputs": [
        {
          "output_type": "execute_result",
          "data": {
            "text/plain": [
              "0.22618999424104244"
            ]
          },
          "metadata": {
            "tags": []
          },
          "execution_count": 306
        }
      ]
    },
    {
      "cell_type": "code",
      "metadata": {
        "colab": {
          "base_uri": "https://localhost:8080/"
        },
        "id": "IgvGMI_zs9ZY",
        "outputId": "979ebc50-80ca-4c30-d5cf-c8ba1a0b3e9b"
      },
      "source": [
        "lr.score(X_test, y_test)"
      ],
      "execution_count": null,
      "outputs": [
        {
          "output_type": "execute_result",
          "data": {
            "text/plain": [
              "0.15445953133318369"
            ]
          },
          "metadata": {
            "tags": []
          },
          "execution_count": 307
        }
      ]
    },
    {
      "cell_type": "markdown",
      "metadata": {
        "id": "Gl9te05ipClM"
      },
      "source": [
        "## **Decision Tree Regression**"
      ]
    },
    {
      "cell_type": "code",
      "metadata": {
        "colab": {
          "base_uri": "https://localhost:8080/"
        },
        "id": "pZRQFKl7pKu6",
        "outputId": "ee9d781c-818e-4d1b-ec3e-050274e30ec7"
      },
      "source": [
        "from sklearn.tree import DecisionTreeRegressor\r\n",
        "from sklearn.metrics import accuracy_score\r\n",
        "dtc = DecisionTreeRegressor()\r\n",
        "dtc.fit(X_train, y_train)\r\n",
        "dtc.score(X_train, y_train)"
      ],
      "execution_count": null,
      "outputs": [
        {
          "output_type": "execute_result",
          "data": {
            "text/plain": [
              "1.0"
            ]
          },
          "metadata": {
            "tags": []
          },
          "execution_count": 308
        }
      ]
    },
    {
      "cell_type": "code",
      "metadata": {
        "id": "O5rEBkVd8rIO",
        "colab": {
          "base_uri": "https://localhost:8080/"
        },
        "outputId": "65f1799e-2c23-4b44-bc90-cf3d02c2a4a1"
      },
      "source": [
        "dtc.predict(X_test)"
      ],
      "execution_count": null,
      "outputs": [
        {
          "output_type": "execute_result",
          "data": {
            "text/plain": [
              "array([2280.36, 2639.76, 1395.49, 1002.13, 1436.98, 1395.49, 1395.49,\n",
              "       3026.95, 1395.49, 3712.56, 3903.73, 2485.37, 1059.84, 2282.36,\n",
              "        982.71, 2485.37, 2218.73,  920.71, 4405.3 , 2840.15, 3231.26,\n",
              "       1436.98, 2282.36, 1681.58, 2218.73, 2687.85,  664.43, 2639.76,\n",
              "       2280.36, 3712.56])"
            ]
          },
          "metadata": {
            "tags": []
          },
          "execution_count": 322
        }
      ]
    },
    {
      "cell_type": "code",
      "metadata": {
        "colab": {
          "base_uri": "https://localhost:8080/"
        },
        "id": "uYmIngFytNQ1",
        "outputId": "064e97c3-93ae-4b34-e2d1-ed5b19da8652"
      },
      "source": [
        "dtc.score(X_test, y_test)"
      ],
      "execution_count": null,
      "outputs": [
        {
          "output_type": "execute_result",
          "data": {
            "text/plain": [
              "-0.4123734730873476"
            ]
          },
          "metadata": {
            "tags": []
          },
          "execution_count": 309
        }
      ]
    }
  ]
}